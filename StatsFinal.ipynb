{
 "cells": [
  {
   "cell_type": "code",
   "execution_count": 3,
   "id": "1741e1cc",
   "metadata": {},
   "outputs": [],
   "source": [
    "import numpy as np\n",
    "import pandas as pd\n",
    "import requests\n",
    "from bs4 import BeautifulSoup"
   ]
  },
  {
   "cell_type": "markdown",
   "id": "9678cf7a",
   "metadata": {},
   "source": [
    "## Get Random States"
   ]
  },
  {
   "cell_type": "code",
   "execution_count": 125,
   "id": "0cd5490a",
   "metadata": {},
   "outputs": [
    {
     "data": {
      "text/plain": [
       "24"
      ]
     },
     "execution_count": 125,
     "metadata": {},
     "output_type": "execute_result"
    }
   ],
   "source": [
    "# Hawaii and Alaska not included\n",
    "# Lists based on image below\n",
    "northern_states = pd.Series([\"Washington\", \"Oregon\", \"Idaho\", \"Montana\", \"Wyoming\", \"North-Dakota\", \"South-Dakota\", \"Nebraska\", \"Iowa\", \"Minnesota\", \"Wisconsin\", \"Illinois\", \"Indiana\", \"Michigan\", \"Ohio\", \"Pennsylvania\", \"New-York\", \"Vermont\", \"New-Hampshire\", \"Maine\", \"Massachusetts\", \"Rhode-Island\", \"Connecticut\", \"New-Jersey\"])\n",
    "southern_states = pd.Series([\"California\", \"Nevada\", \"Utah\", \"Arizona\", \"Colorado\", \"New-Mexico\", \"Kansas\", \"Oklahoma\", \"Texas\", \"Missouri\", \"Arkansas\", \"Louisiana\", \"Kentucky\", \"Tennessee\", \"Mississippi\", \"Alabama\", \"Georgia\", \"Florida\", \"West-Virginia\", \"Virginia\", \"North-Carolina\", \"South-Carolina\", \"Delaware\", \"Maryland\"])"
   ]
  },
  {
   "cell_type": "markdown",
   "id": "ef0f0c95",
   "metadata": {},
   "source": [
    "![US Boundaries](https://upload.wikimedia.org/wikipedia/commons/8/86/Northern_and_Southern_States_on_United_States_of_America_Map.png)"
   ]
  },
  {
   "cell_type": "code",
   "execution_count": 83,
   "id": "825b2f03",
   "metadata": {},
   "outputs": [],
   "source": [
    "north_sample = northern_states.sample(100, random_state=500, replace=True)\n",
    "south_sample = southern_states.sample(100, random_state=500, replace=True)"
   ]
  },
  {
   "cell_type": "markdown",
   "id": "e07d570d",
   "metadata": {},
   "source": [
    "## Get Random Cities"
   ]
  },
  {
   "cell_type": "code",
   "execution_count": 84,
   "id": "cf2e94d7",
   "metadata": {},
   "outputs": [
    {
     "data": {
      "text/html": [
       "<div>\n",
       "<style scoped>\n",
       "    .dataframe tbody tr th:only-of-type {\n",
       "        vertical-align: middle;\n",
       "    }\n",
       "\n",
       "    .dataframe tbody tr th {\n",
       "        vertical-align: top;\n",
       "    }\n",
       "\n",
       "    .dataframe thead th {\n",
       "        text-align: right;\n",
       "    }\n",
       "</style>\n",
       "<table border=\"1\" class=\"dataframe\">\n",
       "  <thead>\n",
       "    <tr style=\"text-align: right;\">\n",
       "      <th></th>\n",
       "      <th>city</th>\n",
       "      <th>state_name</th>\n",
       "      <th>lat</th>\n",
       "      <th>lng</th>\n",
       "    </tr>\n",
       "  </thead>\n",
       "  <tbody>\n",
       "    <tr>\n",
       "      <th>0</th>\n",
       "      <td>New York</td>\n",
       "      <td>New-York</td>\n",
       "      <td>40.6943</td>\n",
       "      <td>-73.9249</td>\n",
       "    </tr>\n",
       "    <tr>\n",
       "      <th>1</th>\n",
       "      <td>Los Angeles</td>\n",
       "      <td>California</td>\n",
       "      <td>34.1139</td>\n",
       "      <td>-118.4068</td>\n",
       "    </tr>\n",
       "    <tr>\n",
       "      <th>2</th>\n",
       "      <td>Chicago</td>\n",
       "      <td>Illinois</td>\n",
       "      <td>41.8373</td>\n",
       "      <td>-87.6862</td>\n",
       "    </tr>\n",
       "    <tr>\n",
       "      <th>3</th>\n",
       "      <td>Miami</td>\n",
       "      <td>Florida</td>\n",
       "      <td>25.7839</td>\n",
       "      <td>-80.2102</td>\n",
       "    </tr>\n",
       "    <tr>\n",
       "      <th>4</th>\n",
       "      <td>Dallas</td>\n",
       "      <td>Texas</td>\n",
       "      <td>32.7936</td>\n",
       "      <td>-96.7662</td>\n",
       "    </tr>\n",
       "  </tbody>\n",
       "</table>\n",
       "</div>"
      ],
      "text/plain": [
       "          city  state_name      lat       lng\n",
       "0     New York    New-York  40.6943  -73.9249\n",
       "1  Los Angeles  California  34.1139 -118.4068\n",
       "2      Chicago    Illinois  41.8373  -87.6862\n",
       "3        Miami     Florida  25.7839  -80.2102\n",
       "4       Dallas       Texas  32.7936  -96.7662"
      ]
     },
     "execution_count": 84,
     "metadata": {},
     "output_type": "execute_result"
    }
   ],
   "source": [
    "cities = pd.read_csv(\"uscities.csv\")\n",
    "cities = cities[[\"city\", \"state_name\", \"lat\", \"lng\"]]\n",
    "cities[\"state_name\"] = cities[\"state_name\"].str.replace(\" \", \"-\")\n",
    "cities.head()"
   ]
  },
  {
   "cell_type": "code",
   "execution_count": 85,
   "id": "c2f1be62",
   "metadata": {},
   "outputs": [],
   "source": [
    "def get_random_city(state):\n",
    "    # get cities from only the provided state\n",
    "    sorted_cities = cities.sort_values(\"state_name\")\n",
    "    idx = sorted_cities.index[sorted_cities[\"state_name\"] == state]\n",
    "    new_cities = sorted_cities.loc[idx]\n",
    "    city_df = new_cities.sample(1).reset_index(drop=True)\n",
    "    \n",
    "    return city_df"
   ]
  },
  {
   "cell_type": "code",
   "execution_count": 86,
   "id": "edf8205b",
   "metadata": {},
   "outputs": [
    {
     "data": {
      "text/html": [
       "<div>\n",
       "<style scoped>\n",
       "    .dataframe tbody tr th:only-of-type {\n",
       "        vertical-align: middle;\n",
       "    }\n",
       "\n",
       "    .dataframe tbody tr th {\n",
       "        vertical-align: top;\n",
       "    }\n",
       "\n",
       "    .dataframe thead th {\n",
       "        text-align: right;\n",
       "    }\n",
       "</style>\n",
       "<table border=\"1\" class=\"dataframe\">\n",
       "  <thead>\n",
       "    <tr style=\"text-align: right;\">\n",
       "      <th></th>\n",
       "      <th>city</th>\n",
       "      <th>state_name</th>\n",
       "      <th>lat</th>\n",
       "      <th>lng</th>\n",
       "    </tr>\n",
       "  </thead>\n",
       "  <tbody>\n",
       "    <tr>\n",
       "      <th>0</th>\n",
       "      <td>Bettendorf</td>\n",
       "      <td>Iowa</td>\n",
       "      <td>41.5656</td>\n",
       "      <td>-90.4764</td>\n",
       "    </tr>\n",
       "  </tbody>\n",
       "</table>\n",
       "</div>"
      ],
      "text/plain": [
       "         city state_name      lat      lng\n",
       "0  Bettendorf       Iowa  41.5656 -90.4764"
      ]
     },
     "execution_count": 86,
     "metadata": {},
     "output_type": "execute_result"
    }
   ],
   "source": [
    "get_random_city(\"Iowa\")"
   ]
  },
  {
   "cell_type": "code",
   "execution_count": 97,
   "id": "c72cf564",
   "metadata": {
    "scrolled": true
   },
   "outputs": [
    {
     "data": {
      "text/html": [
       "<div>\n",
       "<style scoped>\n",
       "    .dataframe tbody tr th:only-of-type {\n",
       "        vertical-align: middle;\n",
       "    }\n",
       "\n",
       "    .dataframe tbody tr th {\n",
       "        vertical-align: top;\n",
       "    }\n",
       "\n",
       "    .dataframe thead th {\n",
       "        text-align: right;\n",
       "    }\n",
       "</style>\n",
       "<table border=\"1\" class=\"dataframe\">\n",
       "  <thead>\n",
       "    <tr style=\"text-align: right;\">\n",
       "      <th></th>\n",
       "      <th>city</th>\n",
       "      <th>state_name</th>\n",
       "      <th>lat</th>\n",
       "      <th>lng</th>\n",
       "    </tr>\n",
       "  </thead>\n",
       "  <tbody>\n",
       "    <tr>\n",
       "      <th>0</th>\n",
       "      <td>South-Plainfield</td>\n",
       "      <td>New-Jersey</td>\n",
       "      <td>40.5748</td>\n",
       "      <td>-74.4153</td>\n",
       "    </tr>\n",
       "    <tr>\n",
       "      <th>1</th>\n",
       "      <td>Ontario</td>\n",
       "      <td>Oregon</td>\n",
       "      <td>44.0259</td>\n",
       "      <td>-116.9759</td>\n",
       "    </tr>\n",
       "    <tr>\n",
       "      <th>2</th>\n",
       "      <td>Newport</td>\n",
       "      <td>Vermont</td>\n",
       "      <td>44.9375</td>\n",
       "      <td>-72.2088</td>\n",
       "    </tr>\n",
       "    <tr>\n",
       "      <th>3</th>\n",
       "      <td>Chardon</td>\n",
       "      <td>Ohio</td>\n",
       "      <td>41.5803</td>\n",
       "      <td>-81.2082</td>\n",
       "    </tr>\n",
       "    <tr>\n",
       "      <th>4</th>\n",
       "      <td>Knoxville</td>\n",
       "      <td>Iowa</td>\n",
       "      <td>41.3188</td>\n",
       "      <td>-93.1024</td>\n",
       "    </tr>\n",
       "    <tr>\n",
       "      <th>5</th>\n",
       "      <td>Burr</td>\n",
       "      <td>Nebraska</td>\n",
       "      <td>40.5360</td>\n",
       "      <td>-96.2997</td>\n",
       "    </tr>\n",
       "    <tr>\n",
       "      <th>6</th>\n",
       "      <td>Huntington-Woods</td>\n",
       "      <td>Michigan</td>\n",
       "      <td>42.4816</td>\n",
       "      <td>-83.1685</td>\n",
       "    </tr>\n",
       "    <tr>\n",
       "      <th>7</th>\n",
       "      <td>Kalamazoo</td>\n",
       "      <td>Michigan</td>\n",
       "      <td>42.2749</td>\n",
       "      <td>-85.5882</td>\n",
       "    </tr>\n",
       "    <tr>\n",
       "      <th>8</th>\n",
       "      <td>Lyndonville</td>\n",
       "      <td>Vermont</td>\n",
       "      <td>44.5352</td>\n",
       "      <td>-72.0016</td>\n",
       "    </tr>\n",
       "    <tr>\n",
       "      <th>9</th>\n",
       "      <td>Old-Bennington</td>\n",
       "      <td>Vermont</td>\n",
       "      <td>42.8848</td>\n",
       "      <td>-73.2143</td>\n",
       "    </tr>\n",
       "  </tbody>\n",
       "</table>\n",
       "</div>"
      ],
      "text/plain": [
       "               city  state_name      lat       lng\n",
       "0  South-Plainfield  New-Jersey  40.5748  -74.4153\n",
       "1           Ontario      Oregon  44.0259 -116.9759\n",
       "2           Newport     Vermont  44.9375  -72.2088\n",
       "3           Chardon        Ohio  41.5803  -81.2082\n",
       "4         Knoxville        Iowa  41.3188  -93.1024\n",
       "5              Burr    Nebraska  40.5360  -96.2997\n",
       "6  Huntington-Woods    Michigan  42.4816  -83.1685\n",
       "7         Kalamazoo    Michigan  42.2749  -85.5882\n",
       "8       Lyndonville     Vermont  44.5352  -72.0016\n",
       "9    Old-Bennington     Vermont  42.8848  -73.2143"
      ]
     },
     "execution_count": 97,
     "metadata": {},
     "output_type": "execute_result"
    }
   ],
   "source": [
    "random_north_cities = pd.DataFrame()\n",
    "random_south_cities = pd.DataFrame()\n",
    "\n",
    "for state in north_sample:\n",
    "    random_city = get_random_city(state)\n",
    "    random_north_cities = random_north_cities.append(random_city, ignore_index=True)\n",
    "    \n",
    "for state in south_sample:\n",
    "    random_city = get_random_city(state)\n",
    "    random_south_cities = random_south_cities.append(random_city, ignore_index=True)\n",
    "    \n",
    "random_north_cities[\"city\"] = random_north_cities[\"city\"].str.replace(\" \", \"-\")   \n",
    "random_south_cities[\"city\"] = random_south_cities[\"city\"].str.replace(\" \", \"-\")   \n",
    "\n",
    "random_north_cities[0:10]"
   ]
  },
  {
   "cell_type": "markdown",
   "id": "f7638b5f",
   "metadata": {},
   "source": [
    "## Scrape Data from https://city-data.com"
   ]
  },
  {
   "cell_type": "code",
   "execution_count": 106,
   "id": "19b9a169",
   "metadata": {},
   "outputs": [],
   "source": [
    "def get_income(city_df):\n",
    "    incomes = pd.Series(dtype=\"string\")\n",
    "    for row in city_df.iterrows():\n",
    "        city = row[1].city\n",
    "        state = row[1].state_name\n",
    "        \n",
    "        url = f\"http://www.city-data.com/city/{city}-{state}.html\"\n",
    "        page = requests.get(url)\n",
    "        pageHTML = page.text\n",
    "\n",
    "        soup = BeautifulSoup(pageHTML, \"html.parser\")\n",
    "        try:\n",
    "            mean_income = soup.find_all(class_=\"median-income\")[0].find_all(class_=\"hgraph\")[0].find(\"table\").find(\"tr\").find_all(\"td\")[1].get_text()\n",
    "            incomes = incomes.append(pd.Series([mean_income]))   \n",
    "        except:\n",
    "            tempIncomes = incomes.str.replace(\"$\", \"\", regex=False)\n",
    "            tempIncomes = tempIncomes.str.replace(\",\", \"\", regex=False)\n",
    "            tempIncomes = tempIncomes.str.replace(\"over \", \"\", regex=False)\n",
    "            tempIncomes = pd.to_numeric(tempIncomes, errors='coerce')\n",
    "            mean_income = np.mean(tempIncomes)\n",
    "            incomes = incomes.append(pd.Series([str(int(mean_income))]))\n",
    "        \n",
    "    incomes = incomes.reset_index(drop=True)\n",
    "    return incomes"
   ]
  },
  {
   "cell_type": "code",
   "execution_count": 107,
   "id": "6c9947b4",
   "metadata": {},
   "outputs": [
    {
     "data": {
      "text/html": [
       "<div>\n",
       "<style scoped>\n",
       "    .dataframe tbody tr th:only-of-type {\n",
       "        vertical-align: middle;\n",
       "    }\n",
       "\n",
       "    .dataframe tbody tr th {\n",
       "        vertical-align: top;\n",
       "    }\n",
       "\n",
       "    .dataframe thead th {\n",
       "        text-align: right;\n",
       "    }\n",
       "</style>\n",
       "<table border=\"1\" class=\"dataframe\">\n",
       "  <thead>\n",
       "    <tr style=\"text-align: right;\">\n",
       "      <th></th>\n",
       "      <th>city</th>\n",
       "      <th>state_name</th>\n",
       "      <th>lat</th>\n",
       "      <th>lng</th>\n",
       "      <th>income</th>\n",
       "      <th>color</th>\n",
       "    </tr>\n",
       "  </thead>\n",
       "  <tbody>\n",
       "    <tr>\n",
       "      <th>0</th>\n",
       "      <td>South-Plainfield</td>\n",
       "      <td>New-Jersey</td>\n",
       "      <td>40.5748</td>\n",
       "      <td>-74.4153</td>\n",
       "      <td>$105,972</td>\n",
       "      <td>green</td>\n",
       "    </tr>\n",
       "    <tr>\n",
       "      <th>1</th>\n",
       "      <td>Ontario</td>\n",
       "      <td>Oregon</td>\n",
       "      <td>44.0259</td>\n",
       "      <td>-116.9759</td>\n",
       "      <td>$39,414</td>\n",
       "      <td>green</td>\n",
       "    </tr>\n",
       "    <tr>\n",
       "      <th>2</th>\n",
       "      <td>Newport</td>\n",
       "      <td>Vermont</td>\n",
       "      <td>44.9375</td>\n",
       "      <td>-72.2088</td>\n",
       "      <td>$38,122</td>\n",
       "      <td>green</td>\n",
       "    </tr>\n",
       "    <tr>\n",
       "      <th>3</th>\n",
       "      <td>Chardon</td>\n",
       "      <td>Ohio</td>\n",
       "      <td>41.5803</td>\n",
       "      <td>-81.2082</td>\n",
       "      <td>$61,367</td>\n",
       "      <td>green</td>\n",
       "    </tr>\n",
       "    <tr>\n",
       "      <th>4</th>\n",
       "      <td>Knoxville</td>\n",
       "      <td>Iowa</td>\n",
       "      <td>41.3188</td>\n",
       "      <td>-93.1024</td>\n",
       "      <td>61218</td>\n",
       "      <td>green</td>\n",
       "    </tr>\n",
       "    <tr>\n",
       "      <th>5</th>\n",
       "      <td>Burr</td>\n",
       "      <td>Nebraska</td>\n",
       "      <td>40.5360</td>\n",
       "      <td>-96.2997</td>\n",
       "      <td>$35,468</td>\n",
       "      <td>green</td>\n",
       "    </tr>\n",
       "    <tr>\n",
       "      <th>6</th>\n",
       "      <td>Huntington-Woods</td>\n",
       "      <td>Michigan</td>\n",
       "      <td>42.4816</td>\n",
       "      <td>-83.1685</td>\n",
       "      <td>$138,883</td>\n",
       "      <td>green</td>\n",
       "    </tr>\n",
       "    <tr>\n",
       "      <th>7</th>\n",
       "      <td>Kalamazoo</td>\n",
       "      <td>Michigan</td>\n",
       "      <td>42.2749</td>\n",
       "      <td>-85.5882</td>\n",
       "      <td>$39,494</td>\n",
       "      <td>green</td>\n",
       "    </tr>\n",
       "    <tr>\n",
       "      <th>8</th>\n",
       "      <td>Lyndonville</td>\n",
       "      <td>Vermont</td>\n",
       "      <td>44.5352</td>\n",
       "      <td>-72.0016</td>\n",
       "      <td>$34,107</td>\n",
       "      <td>green</td>\n",
       "    </tr>\n",
       "    <tr>\n",
       "      <th>9</th>\n",
       "      <td>Old-Bennington</td>\n",
       "      <td>Vermont</td>\n",
       "      <td>42.8848</td>\n",
       "      <td>-73.2143</td>\n",
       "      <td>$127,285</td>\n",
       "      <td>green</td>\n",
       "    </tr>\n",
       "  </tbody>\n",
       "</table>\n",
       "</div>"
      ],
      "text/plain": [
       "               city  state_name      lat       lng    income  color\n",
       "0  South-Plainfield  New-Jersey  40.5748  -74.4153  $105,972  green\n",
       "1           Ontario      Oregon  44.0259 -116.9759   $39,414  green\n",
       "2           Newport     Vermont  44.9375  -72.2088   $38,122  green\n",
       "3           Chardon        Ohio  41.5803  -81.2082   $61,367  green\n",
       "4         Knoxville        Iowa  41.3188  -93.1024     61218  green\n",
       "5              Burr    Nebraska  40.5360  -96.2997   $35,468  green\n",
       "6  Huntington-Woods    Michigan  42.4816  -83.1685  $138,883  green\n",
       "7         Kalamazoo    Michigan  42.2749  -85.5882   $39,494  green\n",
       "8       Lyndonville     Vermont  44.5352  -72.0016   $34,107  green\n",
       "9    Old-Bennington     Vermont  42.8848  -73.2143  $127,285  green"
      ]
     },
     "execution_count": 107,
     "metadata": {},
     "output_type": "execute_result"
    }
   ],
   "source": [
    "random_north_cities = random_north_cities.reset_index(drop=True)\n",
    "random_north_cities[\"income\"] = get_income(random_north_cities)\n",
    "random_south_cities = random_south_cities.reset_index(drop=True)\n",
    "random_south_cities[\"income\"] = get_income(random_south_cities)\n",
    "\n",
    "random_north_cities.head(10)"
   ]
  },
  {
   "cell_type": "markdown",
   "id": "9034df6e",
   "metadata": {},
   "source": [
    "## Calculate Means and Standard Deviations"
   ]
  },
  {
   "cell_type": "code",
   "execution_count": 110,
   "id": "be6aaf3c",
   "metadata": {},
   "outputs": [],
   "source": [
    "random_north_cities[\"income\"] = random_north_cities[\"income\"].str.replace(\"$\", \"\", regex=False)\n",
    "random_north_cities[\"income\"] = random_north_cities[\"income\"].str.replace(\",\", \"\", regex=False)\n",
    "random_north_cities[\"income\"] = random_north_cities[\"income\"].str.replace(\"over \", \"\", regex=False)\n",
    "random_north_cities[\"income\"] = pd.to_numeric(random_north_cities[\"income\"], errors='coerce')\n",
    "\n",
    "random_south_cities[\"income\"] = random_south_cities[\"income\"].str.replace(\"$\", \"\", regex=False)\n",
    "random_south_cities[\"income\"] = random_south_cities[\"income\"].str.replace(\",\", \"\", regex=False)\n",
    "random_south_cities[\"income\"] = random_south_cities[\"income\"].str.replace(\"over \", \"\", regex=False)\n",
    "random_south_cities[\"income\"] = pd.to_numeric(random_south_cities[\"income\"], errors='coerce')"
   ]
  },
  {
   "cell_type": "code",
   "execution_count": 112,
   "id": "b4d3f312",
   "metadata": {},
   "outputs": [
    {
     "name": "stdout",
     "output_type": "stream",
     "text": [
      "North Mean: 64674.95\n",
      "North Standard Deviation: 25811.285856836606\n",
      "South Mean: 59262.31\n",
      "North Standard Deviation: 35648.10162276484\n"
     ]
    }
   ],
   "source": [
    "# ddof=1 gets the sample's standard deviation instead of the population's\n",
    "\n",
    "random_north_cities_mean = np.mean(random_north_cities.income)\n",
    "random_north_cities_stdev = np.std(random_north_cities.income, ddof=1)\n",
    "\n",
    "random_south_cities_mean = np.mean(random_south_cities.income)\n",
    "random_south_cities_stdev = np.std(random_south_cities.income, ddof=1)\n",
    "\n",
    "print(\"North Mean: \" + str(random_north_cities_mean))\n",
    "print(\"North Standard Deviation: \" + str(random_north_cities_stdev))\n",
    "print(\"South Mean: \" + str(random_south_cities_mean))\n",
    "print(\"North Standard Deviation: \" + str(random_south_cities_stdev))"
   ]
  },
  {
   "cell_type": "markdown",
   "id": "6980c93d",
   "metadata": {},
   "source": [
    "## Visualization"
   ]
  },
  {
   "cell_type": "code",
   "execution_count": null,
   "id": "b1315be5",
   "metadata": {},
   "outputs": [],
   "source": [
    "import plotly.graph_objects as go\n",
    "\n",
    "random_north_cities[\"color\"] = \"green\"\n",
    "random_south_cities[\"color\"] = \"red\"\n",
    "\n",
    "df = pd.concat([random_north_cities, random_south_cities])\n",
    "\n",
    "fig = go.Figure(data=go.Scattergeo(\n",
    "        lon = df['lng'],\n",
    "        lat = df['lat'],\n",
    "        text = df['city'] + \", \" + df[\"state_name\"],\n",
    "        mode = 'markers',\n",
    "        marker_color=df[\"color\"]\n",
    "        ))\n",
    "\n",
    "fig.update_layout(\n",
    "        title = '100 random cities from both The North and The South)',\n",
    "        geo_scope='usa',\n",
    "    )\n",
    "fig.show()"
   ]
  },
  {
   "cell_type": "markdown",
   "id": "f2ff06e4",
   "metadata": {},
   "source": [
    "## Download"
   ]
  },
  {
   "cell_type": "code",
   "execution_count": 123,
   "id": "37e4b858",
   "metadata": {},
   "outputs": [],
   "source": [
    "random_north_cities[[\"city\", \"state_name\", \"income\", \"lat\", \"lng\"]].to_csv(\"north.csv\", index=False)\n",
    "random_south_cities[[\"city\", \"state_name\", \"income\", \"lat\", \"lng\"]].to_csv(\"south.csv\", index=False)"
   ]
  }
 ],
 "metadata": {
  "kernelspec": {
   "display_name": "Python 3",
   "language": "python",
   "name": "python3"
  },
  "language_info": {
   "codemirror_mode": {
    "name": "ipython",
    "version": 3
   },
   "file_extension": ".py",
   "mimetype": "text/x-python",
   "name": "python",
   "nbconvert_exporter": "python",
   "pygments_lexer": "ipython3",
   "version": "3.8.8"
  }
 },
 "nbformat": 4,
 "nbformat_minor": 5
}
